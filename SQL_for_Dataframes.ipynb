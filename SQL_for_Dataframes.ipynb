{
 "cells": [
  {
   "cell_type": "markdown",
   "id": "fa34fbce",
   "metadata": {},
   "source": [
    "### Querying Dataframes with SQL"
   ]
  },
  {
   "cell_type": "code",
   "execution_count": 1,
   "id": "fe2c510a",
   "metadata": {},
   "outputs": [],
   "source": [
    "from pyspark.sql import SparkSession"
   ]
  },
  {
   "cell_type": "code",
   "execution_count": 2,
   "id": "cccc4cc5",
   "metadata": {},
   "outputs": [
    {
     "name": "stdout",
     "output_type": "stream",
     "text": [
      "23/07/15 10:57:32 WARN Utils: Your hostname, bhajji resolves to a loopback address: 127.0.1.1; using 192.168.2.24 instead (on interface wlp2s0)\n",
      "23/07/15 10:57:32 WARN Utils: Set SPARK_LOCAL_IP if you need to bind to another address\n"
     ]
    },
    {
     "name": "stderr",
     "output_type": "stream",
     "text": [
      "Setting default log level to \"WARN\".\n",
      "To adjust logging level use sc.setLogLevel(newLevel). For SparkR, use setLogLevel(newLevel).\n"
     ]
    },
    {
     "name": "stdout",
     "output_type": "stream",
     "text": [
      "23/07/15 10:57:32 WARN NativeCodeLoader: Unable to load native-hadoop library for your platform... using builtin-java classes where applicable\n"
     ]
    }
   ],
   "source": [
    "spark = SparkSession \\\n",
    "    .builder \\\n",
    "    .appName(\"Spark SQL Query Dataframes\") \\\n",
    "    .getOrCreate()"
   ]
  },
  {
   "cell_type": "code",
   "execution_count": 3,
   "id": "25a724b3",
   "metadata": {},
   "outputs": [
    {
     "data": {
      "text/html": [
       "\n",
       "            <div>\n",
       "                <p><b>SparkSession - in-memory</b></p>\n",
       "                \n",
       "        <div>\n",
       "            <p><b>SparkContext</b></p>\n",
       "\n",
       "            <p><a href=\"http://192.168.2.24:4040\">Spark UI</a></p>\n",
       "\n",
       "            <dl>\n",
       "              <dt>Version</dt>\n",
       "                <dd><code>v3.3.2</code></dd>\n",
       "              <dt>Master</dt>\n",
       "                <dd><code>local[*]</code></dd>\n",
       "              <dt>AppName</dt>\n",
       "                <dd><code>Spark SQL Query Dataframes</code></dd>\n",
       "            </dl>\n",
       "        </div>\n",
       "        \n",
       "            </div>\n",
       "        "
      ],
      "text/plain": [
       "<pyspark.sql.session.SparkSession at 0x7eff3801bb80>"
      ]
     },
     "execution_count": 3,
     "metadata": {},
     "output_type": "execute_result"
    }
   ],
   "source": [
    "spark"
   ]
  },
  {
   "cell_type": "code",
   "execution_count": 4,
   "id": "e3708327",
   "metadata": {},
   "outputs": [
    {
     "name": "stderr",
     "output_type": "stream",
     "text": [
      "                                                                                \r"
     ]
    }
   ],
   "source": [
    "json_df2_path = \"./Data/utilization.json\"\n",
    "df = spark.read.format(\"json\").load(json_df2_path)"
   ]
  },
  {
   "cell_type": "code",
   "execution_count": 5,
   "id": "13ea1f86",
   "metadata": {},
   "outputs": [
    {
     "name": "stdout",
     "output_type": "stream",
     "text": [
      "+---------------+-------------------+-----------+---------+-------------+\n",
      "|cpu_utilization|     event_datetime|free_memory|server_id|session_count|\n",
      "+---------------+-------------------+-----------+---------+-------------+\n",
      "|           0.57|03/05/2019 08:06:14|       0.51|      100|           47|\n",
      "|           0.47|03/05/2019 08:11:14|       0.62|      100|           43|\n",
      "|           0.56|03/05/2019 08:16:14|       0.57|      100|           62|\n",
      "|           0.57|03/05/2019 08:21:14|       0.56|      100|           50|\n",
      "|           0.35|03/05/2019 08:26:14|       0.46|      100|           43|\n",
      "|           0.41|03/05/2019 08:31:14|       0.58|      100|           48|\n",
      "|           0.57|03/05/2019 08:36:14|       0.35|      100|           58|\n",
      "|           0.41|03/05/2019 08:41:14|        0.4|      100|           58|\n",
      "|           0.53|03/05/2019 08:46:14|       0.35|      100|           62|\n",
      "|           0.51|03/05/2019 08:51:14|        0.6|      100|           45|\n",
      "|           0.32|03/05/2019 08:56:14|       0.37|      100|           47|\n",
      "|           0.62|03/05/2019 09:01:14|       0.59|      100|           60|\n",
      "|           0.66|03/05/2019 09:06:14|       0.72|      100|           57|\n",
      "|           0.54|03/05/2019 09:11:14|       0.54|      100|           44|\n",
      "|           0.29|03/05/2019 09:16:14|        0.4|      100|           47|\n",
      "|           0.43|03/05/2019 09:21:14|       0.68|      100|           66|\n",
      "|           0.49|03/05/2019 09:26:14|       0.66|      100|           65|\n",
      "|           0.64|03/05/2019 09:31:14|       0.55|      100|           66|\n",
      "|           0.42|03/05/2019 09:36:14|        0.6|      100|           42|\n",
      "|           0.55|03/05/2019 09:41:14|       0.59|      100|           63|\n",
      "+---------------+-------------------+-----------+---------+-------------+\n",
      "only showing top 20 rows\n",
      "\n"
     ]
    }
   ],
   "source": [
    "df.show()"
   ]
  },
  {
   "cell_type": "code",
   "execution_count": 6,
   "id": "9e3d3cf9",
   "metadata": {},
   "outputs": [
    {
     "name": "stdout",
     "output_type": "stream",
     "text": [
      "root\n",
      " |-- cpu_utilization: double (nullable = true)\n",
      " |-- event_datetime: string (nullable = true)\n",
      " |-- free_memory: double (nullable = true)\n",
      " |-- server_id: long (nullable = true)\n",
      " |-- session_count: long (nullable = true)\n",
      "\n"
     ]
    }
   ],
   "source": [
    "df.printSchema()"
   ]
  },
  {
   "cell_type": "code",
   "execution_count": 7,
   "id": "a52ece00",
   "metadata": {},
   "outputs": [],
   "source": [
    "# table creation\n",
    "df.createOrReplaceTempView(\"utilization\")"
   ]
  },
  {
   "cell_type": "code",
   "execution_count": 8,
   "id": "ad1c840b",
   "metadata": {},
   "outputs": [
    {
     "name": "stdout",
     "output_type": "stream",
     "text": [
      "+---------------+-------------------+-----------+---------+-------------+\n",
      "|cpu_utilization|     event_datetime|free_memory|server_id|session_count|\n",
      "+---------------+-------------------+-----------+---------+-------------+\n",
      "|           0.57|03/05/2019 08:06:14|       0.51|      100|           47|\n",
      "|           0.47|03/05/2019 08:11:14|       0.62|      100|           43|\n",
      "|           0.56|03/05/2019 08:16:14|       0.57|      100|           62|\n",
      "|           0.57|03/05/2019 08:21:14|       0.56|      100|           50|\n",
      "|           0.35|03/05/2019 08:26:14|       0.46|      100|           43|\n",
      "|           0.41|03/05/2019 08:31:14|       0.58|      100|           48|\n",
      "|           0.57|03/05/2019 08:36:14|       0.35|      100|           58|\n",
      "|           0.41|03/05/2019 08:41:14|        0.4|      100|           58|\n",
      "|           0.53|03/05/2019 08:46:14|       0.35|      100|           62|\n",
      "|           0.51|03/05/2019 08:51:14|        0.6|      100|           45|\n",
      "+---------------+-------------------+-----------+---------+-------------+\n",
      "\n"
     ]
    }
   ],
   "source": [
    "df_sql = spark.sql(\"SELECT * FROM utilization LIMIT 10\")\n",
    "df_sql.show()"
   ]
  },
  {
   "cell_type": "code",
   "execution_count": 9,
   "id": "4856a90f",
   "metadata": {},
   "outputs": [
    {
     "data": {
      "text/plain": [
       "10"
      ]
     },
     "execution_count": 9,
     "metadata": {},
     "output_type": "execute_result"
    }
   ],
   "source": [
    "df_sql.count()"
   ]
  },
  {
   "cell_type": "code",
   "execution_count": 10,
   "id": "8583c282",
   "metadata": {},
   "outputs": [
    {
     "name": "stdout",
     "output_type": "stream",
     "text": [
      "+---------+-------------+\n",
      "|server_id|session_count|\n",
      "+---------+-------------+\n",
      "|      100|           47|\n",
      "|      100|           43|\n",
      "|      100|           62|\n",
      "|      100|           50|\n",
      "|      100|           43|\n",
      "|      100|           48|\n",
      "|      100|           58|\n",
      "|      100|           58|\n",
      "|      100|           62|\n",
      "|      100|           45|\n",
      "+---------+-------------+\n",
      "\n"
     ]
    }
   ],
   "source": [
    "df_sql = spark.sql(\"SELECT server_id, session_count FROM utilization LIMIT 10\")\n",
    "df_sql.show()"
   ]
  },
  {
   "cell_type": "code",
   "execution_count": 11,
   "id": "c849a51d",
   "metadata": {},
   "outputs": [
    {
     "name": "stdout",
     "output_type": "stream",
     "text": [
      "+---+---+\n",
      "|sid| sc|\n",
      "+---+---+\n",
      "|100| 47|\n",
      "|100| 43|\n",
      "|100| 62|\n",
      "|100| 50|\n",
      "|100| 43|\n",
      "|100| 48|\n",
      "|100| 58|\n",
      "|100| 58|\n",
      "|100| 62|\n",
      "|100| 45|\n",
      "|100| 47|\n",
      "|100| 60|\n",
      "|100| 57|\n",
      "|100| 44|\n",
      "|100| 47|\n",
      "|100| 66|\n",
      "|100| 65|\n",
      "|100| 66|\n",
      "|100| 42|\n",
      "|100| 63|\n",
      "+---+---+\n",
      "only showing top 20 rows\n",
      "\n"
     ]
    }
   ],
   "source": [
    "df_sql = spark.sql(\"SELECT server_id as sid, session_count as sc FROM utilization\")\n",
    "df_sql.show()"
   ]
  },
  {
   "cell_type": "markdown",
   "id": "d7beae35",
   "metadata": {},
   "source": [
    "### Filtering Dataframes with SQL"
   ]
  },
  {
   "cell_type": "code",
   "execution_count": 12,
   "id": "862dd29e",
   "metadata": {},
   "outputs": [
    {
     "name": "stderr",
     "output_type": "stream",
     "text": [
      "\r",
      "[Stage 13:===================>                                      (1 + 2) / 3]\r",
      "\r",
      "[Stage 13:======================================>                   (2 + 1) / 3]\r"
     ]
    },
    {
     "name": "stdout",
     "output_type": "stream",
     "text": [
      "+---------------+-------------------+-----------+---------+-------------+\n",
      "|cpu_utilization|     event_datetime|free_memory|server_id|session_count|\n",
      "+---------------+-------------------+-----------+---------+-------------+\n",
      "|           0.66|03/05/2019 08:06:48|       0.31|      120|           54|\n",
      "|           0.58|03/05/2019 08:11:48|       0.38|      120|           64|\n",
      "|           0.55|03/05/2019 08:16:48|       0.61|      120|           54|\n",
      "|            0.7|03/05/2019 08:21:48|       0.35|      120|           80|\n",
      "|            0.6|03/05/2019 08:26:48|       0.39|      120|           71|\n",
      "|           0.53|03/05/2019 08:31:48|       0.35|      120|           49|\n",
      "|           0.73|03/05/2019 08:36:48|       0.42|      120|           73|\n",
      "|           0.41|03/05/2019 08:41:48|        0.6|      120|           72|\n",
      "|           0.62|03/05/2019 08:46:48|       0.57|      120|           57|\n",
      "|           0.67|03/05/2019 08:51:48|       0.44|      120|           78|\n",
      "|           0.67|03/05/2019 08:56:48|       0.38|      120|           73|\n",
      "|           0.39|03/05/2019 09:01:48|       0.47|      120|           58|\n",
      "|            0.5|03/05/2019 09:06:48|       0.29|      120|           78|\n",
      "|           0.38|03/05/2019 09:11:48|       0.38|      120|           56|\n",
      "|           0.53|03/05/2019 09:16:48|       0.38|      120|           47|\n",
      "|           0.74|03/05/2019 09:21:48|       0.25|      120|           69|\n",
      "|           0.53|03/05/2019 09:26:48|       0.57|      120|           73|\n",
      "|           0.54|03/05/2019 09:31:48|       0.64|      120|           65|\n",
      "|            0.7|03/05/2019 09:36:48|       0.52|      120|           55|\n",
      "|           0.54|03/05/2019 09:41:48|       0.27|      120|           74|\n",
      "+---------------+-------------------+-----------+---------+-------------+\n",
      "only showing top 20 rows\n",
      "\n"
     ]
    },
    {
     "name": "stderr",
     "output_type": "stream",
     "text": [
      "\r",
      "                                                                                \r"
     ]
    }
   ],
   "source": [
    "df_sql = spark.sql(\"SELECT * FROM utilization WHERE server_id = 120\")\n",
    "df_sql.show()"
   ]
  },
  {
   "cell_type": "code",
   "execution_count": 13,
   "id": "e85a12d3",
   "metadata": {},
   "outputs": [
    {
     "name": "stdout",
     "output_type": "stream",
     "text": [
      "+---------+-------------+\n",
      "|server_id|session_count|\n",
      "+---------+-------------+\n",
      "|      100|           71|\n",
      "|      100|           71|\n",
      "|      100|           71|\n",
      "|      100|           71|\n",
      "|      100|           72|\n",
      "|      100|           72|\n",
      "|      100|           71|\n",
      "|      100|           71|\n",
      "|      100|           71|\n",
      "|      100|           72|\n",
      "|      100|           71|\n",
      "|      100|           72|\n",
      "|      100|           71|\n",
      "|      100|           71|\n",
      "|      100|           72|\n",
      "|      100|           71|\n",
      "|      100|           72|\n",
      "|      100|           72|\n",
      "|      100|           71|\n",
      "|      100|           71|\n",
      "+---------+-------------+\n",
      "only showing top 20 rows\n",
      "\n"
     ]
    }
   ],
   "source": [
    "df_sql = spark.sql(\"SELECT server_id, session_count FROM utilization WHERE session_count > 70\")\n",
    "df_sql.show()"
   ]
  },
  {
   "cell_type": "code",
   "execution_count": 14,
   "id": "a367695c",
   "metadata": {},
   "outputs": [
    {
     "name": "stderr",
     "output_type": "stream",
     "text": [
      "                                                                                \r"
     ]
    },
    {
     "data": {
      "text/plain": [
       "239659"
      ]
     },
     "execution_count": 14,
     "metadata": {},
     "output_type": "execute_result"
    }
   ],
   "source": [
    "df_sql.count()"
   ]
  },
  {
   "cell_type": "code",
   "execution_count": 15,
   "id": "88bec241",
   "metadata": {},
   "outputs": [
    {
     "name": "stdout",
     "output_type": "stream",
     "text": [
      "+---------+-------------+\n",
      "|server_id|session_count|\n",
      "+---------+-------------+\n",
      "|      120|           80|\n",
      "|      120|           71|\n",
      "|      120|           73|\n",
      "|      120|           72|\n",
      "|      120|           78|\n",
      "|      120|           73|\n",
      "|      120|           78|\n",
      "|      120|           73|\n",
      "|      120|           74|\n",
      "|      120|           78|\n",
      "|      120|           75|\n",
      "|      120|           75|\n",
      "|      120|           73|\n",
      "|      120|           79|\n",
      "|      120|           72|\n",
      "|      120|           77|\n",
      "|      120|           75|\n",
      "|      120|           72|\n",
      "|      120|           79|\n",
      "|      120|           75|\n",
      "+---------+-------------+\n",
      "only showing top 20 rows\n",
      "\n"
     ]
    }
   ],
   "source": [
    "df_sql = spark.sql(\"SELECT server_id, session_count FROM utilization WHERE session_count > 70 AND server_id = 120\")\n",
    "df_sql.show()"
   ]
  },
  {
   "cell_type": "code",
   "execution_count": 16,
   "id": "cccc96bd",
   "metadata": {},
   "outputs": [
    {
     "data": {
      "text/plain": [
       "2733"
      ]
     },
     "execution_count": 16,
     "metadata": {},
     "output_type": "execute_result"
    }
   ],
   "source": [
    "df_sql.count()"
   ]
  },
  {
   "cell_type": "code",
   "execution_count": 17,
   "id": "8b44d63b",
   "metadata": {},
   "outputs": [
    {
     "name": "stdout",
     "output_type": "stream",
     "text": [
      "+---------+-------------+\n",
      "|server_id|session_count|\n",
      "+---------+-------------+\n",
      "|      120|           80|\n",
      "|      120|           80|\n",
      "|      120|           80|\n",
      "|      120|           80|\n",
      "|      120|           80|\n",
      "|      120|           80|\n",
      "|      120|           80|\n",
      "|      120|           80|\n",
      "|      120|           80|\n",
      "|      120|           80|\n",
      "|      120|           80|\n",
      "|      120|           80|\n",
      "|      120|           80|\n",
      "|      120|           80|\n",
      "|      120|           80|\n",
      "|      120|           80|\n",
      "|      120|           80|\n",
      "|      120|           80|\n",
      "|      120|           80|\n",
      "|      120|           80|\n",
      "+---------+-------------+\n",
      "only showing top 20 rows\n",
      "\n"
     ]
    }
   ],
   "source": [
    "df_sql = spark.sql(\"SELECT server_id, session_count \\\n",
    "                   FROM utilization \\\n",
    "                   WHERE session_count > 70 AND server_id = 120 \\\n",
    "                   ORDER BY session_count DESC\")\n",
    "df_sql.show()"
   ]
  },
  {
   "cell_type": "markdown",
   "id": "d29fdce7",
   "metadata": {},
   "source": [
    "### Aggregating Dataframes with SQL"
   ]
  },
  {
   "cell_type": "code",
   "execution_count": 18,
   "id": "0f533c3b",
   "metadata": {},
   "outputs": [
    {
     "name": "stderr",
     "output_type": "stream",
     "text": [
      "\r",
      "[Stage 24:>                                                         (0 + 4) / 4]\r",
      "\r",
      "[Stage 24:==============>                                           (1 + 3) / 4]\r"
     ]
    },
    {
     "name": "stdout",
     "output_type": "stream",
     "text": [
      "+--------+\n",
      "|count(1)|\n",
      "+--------+\n",
      "|  500000|\n",
      "+--------+\n",
      "\n"
     ]
    },
    {
     "name": "stderr",
     "output_type": "stream",
     "text": [
      "\r",
      "                                                                                \r"
     ]
    }
   ],
   "source": [
    "df_count = spark.sql(\"SELECT count(*) FROM utilization\")\n",
    "df_count.show()"
   ]
  },
  {
   "cell_type": "code",
   "execution_count": 19,
   "id": "fb17684c",
   "metadata": {},
   "outputs": [
    {
     "name": "stdout",
     "output_type": "stream",
     "text": [
      "+--------+\n",
      "|count(1)|\n",
      "+--------+\n",
      "|  239659|\n",
      "+--------+\n",
      "\n"
     ]
    }
   ],
   "source": [
    "df_sql = spark.sql(\"SELECT count(*) \\\n",
    "                    FROM utilization \\\n",
    "                    WHERE session_count > 70\")\n",
    "df_sql.show()"
   ]
  },
  {
   "cell_type": "code",
   "execution_count": 20,
   "id": "2328acc6",
   "metadata": {},
   "outputs": [
    {
     "name": "stderr",
     "output_type": "stream",
     "text": [
      "\r",
      "[Stage 30:>                                                         (0 + 4) / 4]\r",
      "\r",
      "[Stage 30:==============>                                           (1 + 3) / 4]\r"
     ]
    },
    {
     "name": "stdout",
     "output_type": "stream",
     "text": [
      "+---------+--------+\n",
      "|server_id|count(1)|\n",
      "+---------+--------+\n",
      "|      112|    7425|\n",
      "|      113|    9418|\n",
      "|      110|    2826|\n",
      "|      107|    5646|\n",
      "|      103|    8744|\n",
      "|      104|    7366|\n",
      "|      111|    3093|\n",
      "|      100|     391|\n",
      "|      105|    1110|\n",
      "|      108|    8375|\n",
      "|      101|    9808|\n",
      "|      102|    8586|\n",
      "|      109|    3129|\n",
      "|      126|    6365|\n",
      "|      116|    1167|\n",
      "|      114|    2128|\n",
      "|      115|    5284|\n",
      "|      120|    2733|\n",
      "|      123|    7918|\n",
      "|      118|    7913|\n",
      "+---------+--------+\n",
      "only showing top 20 rows\n",
      "\n"
     ]
    },
    {
     "name": "stderr",
     "output_type": "stream",
     "text": [
      "\r",
      "                                                                                \r"
     ]
    }
   ],
   "source": [
    "df_sql = spark.sql(\"SELECT server_id, count(*) \\\n",
    "                    FROM utilization \\\n",
    "                    WHERE session_count > 70 \\\n",
    "                    GROUP BY server_id\")\n",
    "df_sql.show()"
   ]
  },
  {
   "cell_type": "code",
   "execution_count": 21,
   "id": "346a497b",
   "metadata": {},
   "outputs": [
    {
     "name": "stdout",
     "output_type": "stream",
     "text": [
      "+---------+--------+\n",
      "|server_id|count(1)|\n",
      "+---------+--------+\n",
      "|      101|    9808|\n",
      "|      113|    9418|\n",
      "|      145|    9304|\n",
      "|      103|    8744|\n",
      "|      102|    8586|\n",
      "|      133|    8583|\n",
      "|      108|    8375|\n",
      "|      149|    8288|\n",
      "|      137|    8248|\n",
      "|      148|    8027|\n",
      "|      123|    7918|\n",
      "|      118|    7913|\n",
      "|      112|    7425|\n",
      "|      139|    7383|\n",
      "|      104|    7366|\n",
      "|      142|    7084|\n",
      "|      121|    7084|\n",
      "|      146|    7072|\n",
      "|      126|    6365|\n",
      "|      144|    6220|\n",
      "+---------+--------+\n",
      "only showing top 20 rows\n",
      "\n"
     ]
    },
    {
     "name": "stderr",
     "output_type": "stream",
     "text": [
      "\r",
      "[Stage 33:===========================================>              (3 + 1) / 4]\r",
      "\r",
      "                                                                                \r"
     ]
    }
   ],
   "source": [
    "df_sql = spark.sql(\"SELECT server_id, count(*) \\\n",
    "                    FROM utilization \\\n",
    "                    WHERE session_count > 70 \\\n",
    "                    GROUP BY server_id \\\n",
    "                    ORDER BY count(*) DESC\")\n",
    "df_sql.show()"
   ]
  },
  {
   "cell_type": "code",
   "execution_count": 22,
   "id": "ff11bbdf",
   "metadata": {},
   "outputs": [
    {
     "name": "stderr",
     "output_type": "stream",
     "text": [
      "\r",
      "[Stage 36:==============>                                           (1 + 3) / 4]\r",
      "\r",
      "[Stage 36:=============================>                            (2 + 2) / 4]\r"
     ]
    },
    {
     "name": "stdout",
     "output_type": "stream",
     "text": [
      "+---------+------------------+------------------+------------------+\n",
      "|server_id|min(session_count)|avg(session_count)|max(session_count)|\n",
      "+---------+------------------+------------------+------------------+\n",
      "|      101|                71| 87.66557911908646|               105|\n",
      "|      113|                71| 86.96262476109577|               103|\n",
      "|      145|                71| 86.97732158211522|               103|\n",
      "|      103|                71| 85.76372369624886|               101|\n",
      "|      102|                71| 85.71150710458886|               101|\n",
      "|      133|                71| 85.46720260981009|               100|\n",
      "|      108|                71|  85.1219104477612|               100|\n",
      "|      149|                71|  84.9612693050193|                99|\n",
      "|      137|                71|  85.0061833171678|                99|\n",
      "|      148|                71| 84.70350068518749|                99|\n",
      "|      123|                71| 84.53220510229856|                98|\n",
      "|      118|                71| 84.65777833944142|                98|\n",
      "|      112|                71| 83.54505050505051|                97|\n",
      "|      139|                71| 83.32710280373831|                96|\n",
      "|      104|                71| 83.34604941623677|                96|\n",
      "|      142|                71|  82.9049971767363|                95|\n",
      "|      121|                71| 82.88848108413326|                95|\n",
      "|      146|                71| 82.95093325791855|                95|\n",
      "|      126|                71| 81.56150824823253|                93|\n",
      "|      144|                71| 81.38472668810289|                92|\n",
      "+---------+------------------+------------------+------------------+\n",
      "only showing top 20 rows\n",
      "\n"
     ]
    },
    {
     "name": "stderr",
     "output_type": "stream",
     "text": [
      "\r",
      "                                                                                \r"
     ]
    }
   ],
   "source": [
    "df_sql = spark.sql(\"SELECT server_id, min(session_count), avg(session_count), max(session_count) \\\n",
    "                    FROM utilization \\\n",
    "                    WHERE session_count > 70 \\\n",
    "                    GROUP BY server_id \\\n",
    "                    ORDER BY count(*) DESC\")\n",
    "df_sql.show()"
   ]
  },
  {
   "cell_type": "code",
   "execution_count": 23,
   "id": "96039240",
   "metadata": {},
   "outputs": [
    {
     "name": "stderr",
     "output_type": "stream",
     "text": [
      "\r",
      "[Stage 39:==============>                                           (1 + 3) / 4]\r"
     ]
    },
    {
     "name": "stdout",
     "output_type": "stream",
     "text": [
      "+---------+------------------+----------------------------+------------------+\n",
      "|server_id|min(session_count)|round(avg(session_count), 2)|max(session_count)|\n",
      "+---------+------------------+----------------------------+------------------+\n",
      "|      101|                71|                       87.67|               105|\n",
      "|      113|                71|                       86.96|               103|\n",
      "|      145|                71|                       86.98|               103|\n",
      "|      103|                71|                       85.76|               101|\n",
      "|      102|                71|                       85.71|               101|\n",
      "|      133|                71|                       85.47|               100|\n",
      "|      108|                71|                       85.12|               100|\n",
      "|      149|                71|                       84.96|                99|\n",
      "|      137|                71|                       85.01|                99|\n",
      "|      148|                71|                        84.7|                99|\n",
      "|      123|                71|                       84.53|                98|\n",
      "|      118|                71|                       84.66|                98|\n",
      "|      112|                71|                       83.55|                97|\n",
      "|      139|                71|                       83.33|                96|\n",
      "|      104|                71|                       83.35|                96|\n",
      "|      142|                71|                        82.9|                95|\n",
      "|      121|                71|                       82.89|                95|\n",
      "|      146|                71|                       82.95|                95|\n",
      "|      126|                71|                       81.56|                93|\n",
      "|      144|                71|                       81.38|                92|\n",
      "+---------+------------------+----------------------------+------------------+\n",
      "only showing top 20 rows\n",
      "\n"
     ]
    },
    {
     "name": "stderr",
     "output_type": "stream",
     "text": [
      "\r",
      "                                                                                \r"
     ]
    }
   ],
   "source": [
    "df_sql = spark.sql(\"SELECT server_id, min(session_count), round(avg(session_count),2), max(session_count) \\\n",
    "                    FROM utilization \\\n",
    "                    WHERE session_count > 70 \\\n",
    "                    GROUP BY server_id \\\n",
    "                    ORDER BY count(*) DESC\")\n",
    "df_sql.show()"
   ]
  },
  {
   "cell_type": "markdown",
   "id": "7dbfdbab",
   "metadata": {},
   "source": [
    "### Joining Dataframes with SQL"
   ]
  },
  {
   "cell_type": "code",
   "execution_count": 24,
   "id": "94526458",
   "metadata": {},
   "outputs": [],
   "source": [
    "csv_df_path = \"./Data/server_name.csv\"\n",
    "df_server = spark.read.csv(csv_df_path,header=True)"
   ]
  },
  {
   "cell_type": "code",
   "execution_count": 25,
   "id": "563fde7e",
   "metadata": {},
   "outputs": [
    {
     "name": "stdout",
     "output_type": "stream",
     "text": [
      "+---------+-----------+\n",
      "|server_id|server_name|\n",
      "+---------+-----------+\n",
      "|      100| 100 Server|\n",
      "|      101| 101 Server|\n",
      "|      102| 102 Server|\n",
      "|      103| 103 Server|\n",
      "|      104| 104 Server|\n",
      "|      105| 105 Server|\n",
      "|      106| 106 Server|\n",
      "|      107| 107 Server|\n",
      "|      108| 108 Server|\n",
      "|      109| 109 Server|\n",
      "|      110| 110 Server|\n",
      "|      111| 111 Server|\n",
      "|      112| 112 Server|\n",
      "|      113| 113 Server|\n",
      "|      114| 114 Server|\n",
      "|      115| 115 Server|\n",
      "|      116| 116 Server|\n",
      "|      117| 117 Server|\n",
      "|      118| 118 Server|\n",
      "|      119| 119 Server|\n",
      "+---------+-----------+\n",
      "only showing top 20 rows\n",
      "\n"
     ]
    }
   ],
   "source": [
    "df_server.show()"
   ]
  },
  {
   "cell_type": "code",
   "execution_count": 26,
   "id": "4b935272",
   "metadata": {},
   "outputs": [],
   "source": [
    "#table creation\n",
    "df_server.createOrReplaceTempView(\"server_name\")"
   ]
  },
  {
   "cell_type": "code",
   "execution_count": 27,
   "id": "45d026a4",
   "metadata": {},
   "outputs": [
    {
     "name": "stderr",
     "output_type": "stream",
     "text": [
      "\r",
      "[Stage 44:>                                                         (0 + 4) / 4]\r",
      "\r",
      "[Stage 44:=============================>                            (2 + 2) / 4]\r"
     ]
    },
    {
     "name": "stdout",
     "output_type": "stream",
     "text": [
      "+---------+\n",
      "|server_id|\n",
      "+---------+\n",
      "|      100|\n",
      "|      101|\n",
      "|      102|\n",
      "|      103|\n",
      "|      104|\n",
      "|      105|\n",
      "|      106|\n",
      "|      107|\n",
      "|      108|\n",
      "|      109|\n",
      "|      110|\n",
      "|      111|\n",
      "|      112|\n",
      "|      113|\n",
      "|      114|\n",
      "|      115|\n",
      "|      116|\n",
      "|      117|\n",
      "|      118|\n",
      "|      119|\n",
      "+---------+\n",
      "only showing top 20 rows\n",
      "\n"
     ]
    },
    {
     "name": "stderr",
     "output_type": "stream",
     "text": [
      "\r",
      "                                                                                \r"
     ]
    }
   ],
   "source": [
    "df_count = spark.sql(\"SELECT DISTINCT server_id FROM utilization ORDER BY server_id\")\n",
    "df_count.show()"
   ]
  },
  {
   "cell_type": "code",
   "execution_count": 28,
   "id": "37bce4a6",
   "metadata": {},
   "outputs": [
    {
     "name": "stderr",
     "output_type": "stream",
     "text": [
      "\r",
      "[Stage 47:>                                                         (0 + 4) / 4]\r"
     ]
    },
    {
     "name": "stdout",
     "output_type": "stream",
     "text": [
      "+--------------+--------------+\n",
      "|min(server_id)|max(server_id)|\n",
      "+--------------+--------------+\n",
      "|           100|           149|\n",
      "+--------------+--------------+\n",
      "\n"
     ]
    },
    {
     "name": "stderr",
     "output_type": "stream",
     "text": [
      "\r",
      "                                                                                \r"
     ]
    }
   ],
   "source": [
    "spark.sql(\"SELECT min(server_id), max(server_id) FROM utilization\").show()"
   ]
  },
  {
   "cell_type": "code",
   "execution_count": 29,
   "id": "cf3a263b",
   "metadata": {},
   "outputs": [
    {
     "name": "stdout",
     "output_type": "stream",
     "text": [
      "+---------+-----------+\n",
      "|server_id|server_name|\n",
      "+---------+-----------+\n",
      "|      100| 100 Server|\n",
      "|      101| 101 Server|\n",
      "|      102| 102 Server|\n",
      "|      103| 103 Server|\n",
      "|      104| 104 Server|\n",
      "|      105| 105 Server|\n",
      "|      106| 106 Server|\n",
      "|      107| 107 Server|\n",
      "|      108| 108 Server|\n",
      "|      109| 109 Server|\n",
      "|      110| 110 Server|\n",
      "|      111| 111 Server|\n",
      "|      112| 112 Server|\n",
      "|      113| 113 Server|\n",
      "|      114| 114 Server|\n",
      "|      115| 115 Server|\n",
      "|      116| 116 Server|\n",
      "|      117| 117 Server|\n",
      "|      118| 118 Server|\n",
      "|      119| 119 Server|\n",
      "+---------+-----------+\n",
      "only showing top 20 rows\n",
      "\n"
     ]
    }
   ],
   "source": [
    "spark.sql(\"SELECT * FROM server_name\").show()"
   ]
  },
  {
   "cell_type": "code",
   "execution_count": 30,
   "id": "8d15e369",
   "metadata": {},
   "outputs": [
    {
     "name": "stdout",
     "output_type": "stream",
     "text": [
      "+---------+-----------+-------------+\n",
      "|server_id|server_name|session_count|\n",
      "+---------+-----------+-------------+\n",
      "|      100| 100 Server|           47|\n",
      "|      100| 100 Server|           43|\n",
      "|      100| 100 Server|           62|\n",
      "|      100| 100 Server|           50|\n",
      "|      100| 100 Server|           43|\n",
      "|      100| 100 Server|           48|\n",
      "|      100| 100 Server|           58|\n",
      "|      100| 100 Server|           58|\n",
      "|      100| 100 Server|           62|\n",
      "|      100| 100 Server|           45|\n",
      "|      100| 100 Server|           47|\n",
      "|      100| 100 Server|           60|\n",
      "|      100| 100 Server|           57|\n",
      "|      100| 100 Server|           44|\n",
      "|      100| 100 Server|           47|\n",
      "|      100| 100 Server|           66|\n",
      "|      100| 100 Server|           65|\n",
      "|      100| 100 Server|           66|\n",
      "|      100| 100 Server|           42|\n",
      "|      100| 100 Server|           63|\n",
      "+---------+-----------+-------------+\n",
      "only showing top 20 rows\n",
      "\n"
     ]
    }
   ],
   "source": [
    "df_join = spark.sql(\"SELECT u.server_id, sn.server_name, u.session_count \\\n",
    "                     FROM utilization u \\\n",
    "                     INNER JOIN server_name sn \\\n",
    "                     ON sn.server_id = u.server_id\")\n",
    "df_join.show()   "
   ]
  },
  {
   "cell_type": "markdown",
   "id": "2b984332",
   "metadata": {},
   "source": [
    "### Working with NA"
   ]
  },
  {
   "cell_type": "code",
   "execution_count": 31,
   "id": "c751b3b1",
   "metadata": {},
   "outputs": [],
   "source": [
    "from pyspark.sql.functions import lit\n",
    "from pyspark.sql.types import StringType\n",
    "\n",
    "df_na = df.withColumn('na_col', lit(None).cast(StringType()))"
   ]
  },
  {
   "cell_type": "code",
   "execution_count": 32,
   "id": "25e13dbf",
   "metadata": {},
   "outputs": [
    {
     "name": "stdout",
     "output_type": "stream",
     "text": [
      "+---------------+-------------------+-----------+---------+-------------+------+\n",
      "|cpu_utilization|     event_datetime|free_memory|server_id|session_count|na_col|\n",
      "+---------------+-------------------+-----------+---------+-------------+------+\n",
      "|           0.57|03/05/2019 08:06:14|       0.51|      100|           47|  null|\n",
      "|           0.47|03/05/2019 08:11:14|       0.62|      100|           43|  null|\n",
      "|           0.56|03/05/2019 08:16:14|       0.57|      100|           62|  null|\n",
      "|           0.57|03/05/2019 08:21:14|       0.56|      100|           50|  null|\n",
      "|           0.35|03/05/2019 08:26:14|       0.46|      100|           43|  null|\n",
      "|           0.41|03/05/2019 08:31:14|       0.58|      100|           48|  null|\n",
      "|           0.57|03/05/2019 08:36:14|       0.35|      100|           58|  null|\n",
      "|           0.41|03/05/2019 08:41:14|        0.4|      100|           58|  null|\n",
      "|           0.53|03/05/2019 08:46:14|       0.35|      100|           62|  null|\n",
      "|           0.51|03/05/2019 08:51:14|        0.6|      100|           45|  null|\n",
      "|           0.32|03/05/2019 08:56:14|       0.37|      100|           47|  null|\n",
      "|           0.62|03/05/2019 09:01:14|       0.59|      100|           60|  null|\n",
      "|           0.66|03/05/2019 09:06:14|       0.72|      100|           57|  null|\n",
      "|           0.54|03/05/2019 09:11:14|       0.54|      100|           44|  null|\n",
      "|           0.29|03/05/2019 09:16:14|        0.4|      100|           47|  null|\n",
      "|           0.43|03/05/2019 09:21:14|       0.68|      100|           66|  null|\n",
      "|           0.49|03/05/2019 09:26:14|       0.66|      100|           65|  null|\n",
      "|           0.64|03/05/2019 09:31:14|       0.55|      100|           66|  null|\n",
      "|           0.42|03/05/2019 09:36:14|        0.6|      100|           42|  null|\n",
      "|           0.55|03/05/2019 09:41:14|       0.59|      100|           63|  null|\n",
      "+---------------+-------------------+-----------+---------+-------------+------+\n",
      "only showing top 20 rows\n",
      "\n"
     ]
    }
   ],
   "source": [
    "df_na.show()"
   ]
  },
  {
   "cell_type": "code",
   "execution_count": 33,
   "id": "dba48187",
   "metadata": {},
   "outputs": [
    {
     "name": "stdout",
     "output_type": "stream",
     "text": [
      "+---------------+-------------------+-----------+---------+-------------+------+\n",
      "|cpu_utilization|     event_datetime|free_memory|server_id|session_count|na_col|\n",
      "+---------------+-------------------+-----------+---------+-------------+------+\n",
      "|           0.57|03/05/2019 08:06:14|       0.51|      100|           47|     A|\n",
      "|           0.47|03/05/2019 08:11:14|       0.62|      100|           43|     A|\n",
      "|           0.56|03/05/2019 08:16:14|       0.57|      100|           62|     A|\n",
      "|           0.57|03/05/2019 08:21:14|       0.56|      100|           50|     A|\n",
      "|           0.35|03/05/2019 08:26:14|       0.46|      100|           43|     A|\n",
      "|           0.41|03/05/2019 08:31:14|       0.58|      100|           48|     A|\n",
      "|           0.57|03/05/2019 08:36:14|       0.35|      100|           58|     A|\n",
      "|           0.41|03/05/2019 08:41:14|        0.4|      100|           58|     A|\n",
      "|           0.53|03/05/2019 08:46:14|       0.35|      100|           62|     A|\n",
      "|           0.51|03/05/2019 08:51:14|        0.6|      100|           45|     A|\n",
      "|           0.32|03/05/2019 08:56:14|       0.37|      100|           47|     A|\n",
      "|           0.62|03/05/2019 09:01:14|       0.59|      100|           60|     A|\n",
      "|           0.66|03/05/2019 09:06:14|       0.72|      100|           57|     A|\n",
      "|           0.54|03/05/2019 09:11:14|       0.54|      100|           44|     A|\n",
      "|           0.29|03/05/2019 09:16:14|        0.4|      100|           47|     A|\n",
      "|           0.43|03/05/2019 09:21:14|       0.68|      100|           66|     A|\n",
      "|           0.49|03/05/2019 09:26:14|       0.66|      100|           65|     A|\n",
      "|           0.64|03/05/2019 09:31:14|       0.55|      100|           66|     A|\n",
      "|           0.42|03/05/2019 09:36:14|        0.6|      100|           42|     A|\n",
      "|           0.55|03/05/2019 09:41:14|       0.59|      100|           63|     A|\n",
      "+---------------+-------------------+-----------+---------+-------------+------+\n",
      "only showing top 20 rows\n",
      "\n"
     ]
    }
   ],
   "source": [
    "df_na.fillna('A').show()"
   ]
  },
  {
   "cell_type": "code",
   "execution_count": 34,
   "id": "d9291d27",
   "metadata": {},
   "outputs": [],
   "source": [
    "df2 = df_na.fillna('A').union(df_na)"
   ]
  },
  {
   "cell_type": "code",
   "execution_count": 35,
   "id": "2b4a58ad",
   "metadata": {},
   "outputs": [
    {
     "name": "stdout",
     "output_type": "stream",
     "text": [
      "+---------------+-------------------+-----------+---------+-------------+------+\n",
      "|cpu_utilization|     event_datetime|free_memory|server_id|session_count|na_col|\n",
      "+---------------+-------------------+-----------+---------+-------------+------+\n",
      "|           0.57|03/05/2019 08:06:14|       0.51|      100|           47|     A|\n",
      "|           0.47|03/05/2019 08:11:14|       0.62|      100|           43|     A|\n",
      "|           0.56|03/05/2019 08:16:14|       0.57|      100|           62|     A|\n",
      "|           0.57|03/05/2019 08:21:14|       0.56|      100|           50|     A|\n",
      "|           0.35|03/05/2019 08:26:14|       0.46|      100|           43|     A|\n",
      "|           0.41|03/05/2019 08:31:14|       0.58|      100|           48|     A|\n",
      "|           0.57|03/05/2019 08:36:14|       0.35|      100|           58|     A|\n",
      "|           0.41|03/05/2019 08:41:14|        0.4|      100|           58|     A|\n",
      "|           0.53|03/05/2019 08:46:14|       0.35|      100|           62|     A|\n",
      "|           0.51|03/05/2019 08:51:14|        0.6|      100|           45|     A|\n",
      "|           0.32|03/05/2019 08:56:14|       0.37|      100|           47|     A|\n",
      "|           0.62|03/05/2019 09:01:14|       0.59|      100|           60|     A|\n",
      "|           0.66|03/05/2019 09:06:14|       0.72|      100|           57|     A|\n",
      "|           0.54|03/05/2019 09:11:14|       0.54|      100|           44|     A|\n",
      "|           0.29|03/05/2019 09:16:14|        0.4|      100|           47|     A|\n",
      "|           0.43|03/05/2019 09:21:14|       0.68|      100|           66|     A|\n",
      "|           0.49|03/05/2019 09:26:14|       0.66|      100|           65|     A|\n",
      "|           0.64|03/05/2019 09:31:14|       0.55|      100|           66|     A|\n",
      "|           0.42|03/05/2019 09:36:14|        0.6|      100|           42|     A|\n",
      "|           0.55|03/05/2019 09:41:14|       0.59|      100|           63|     A|\n",
      "+---------------+-------------------+-----------+---------+-------------+------+\n",
      "only showing top 20 rows\n",
      "\n"
     ]
    }
   ],
   "source": [
    "df2.show()"
   ]
  },
  {
   "cell_type": "code",
   "execution_count": 36,
   "id": "61e01db7",
   "metadata": {},
   "outputs": [
    {
     "name": "stdout",
     "output_type": "stream",
     "text": [
      "+---------------+-------------------+-----------+---------+-------------+------+\n",
      "|cpu_utilization|     event_datetime|free_memory|server_id|session_count|na_col|\n",
      "+---------------+-------------------+-----------+---------+-------------+------+\n",
      "|           0.57|03/05/2019 08:06:14|       0.51|      100|           47|     A|\n",
      "|           0.47|03/05/2019 08:11:14|       0.62|      100|           43|     A|\n",
      "|           0.56|03/05/2019 08:16:14|       0.57|      100|           62|     A|\n",
      "|           0.57|03/05/2019 08:21:14|       0.56|      100|           50|     A|\n",
      "|           0.35|03/05/2019 08:26:14|       0.46|      100|           43|     A|\n",
      "|           0.41|03/05/2019 08:31:14|       0.58|      100|           48|     A|\n",
      "|           0.57|03/05/2019 08:36:14|       0.35|      100|           58|     A|\n",
      "|           0.41|03/05/2019 08:41:14|        0.4|      100|           58|     A|\n",
      "|           0.53|03/05/2019 08:46:14|       0.35|      100|           62|     A|\n",
      "|           0.51|03/05/2019 08:51:14|        0.6|      100|           45|     A|\n",
      "|           0.32|03/05/2019 08:56:14|       0.37|      100|           47|     A|\n",
      "|           0.62|03/05/2019 09:01:14|       0.59|      100|           60|     A|\n",
      "|           0.66|03/05/2019 09:06:14|       0.72|      100|           57|     A|\n",
      "|           0.54|03/05/2019 09:11:14|       0.54|      100|           44|     A|\n",
      "|           0.29|03/05/2019 09:16:14|        0.4|      100|           47|     A|\n",
      "|           0.43|03/05/2019 09:21:14|       0.68|      100|           66|     A|\n",
      "|           0.49|03/05/2019 09:26:14|       0.66|      100|           65|     A|\n",
      "|           0.64|03/05/2019 09:31:14|       0.55|      100|           66|     A|\n",
      "|           0.42|03/05/2019 09:36:14|        0.6|      100|           42|     A|\n",
      "|           0.55|03/05/2019 09:41:14|       0.59|      100|           63|     A|\n",
      "+---------------+-------------------+-----------+---------+-------------+------+\n",
      "only showing top 20 rows\n",
      "\n"
     ]
    }
   ],
   "source": [
    "df2.na.drop().show()"
   ]
  },
  {
   "cell_type": "code",
   "execution_count": 37,
   "id": "f3cdcfcc",
   "metadata": {},
   "outputs": [],
   "source": [
    "df2.createOrReplaceTempView(\"na_table\")"
   ]
  },
  {
   "cell_type": "code",
   "execution_count": 38,
   "id": "7c468c93",
   "metadata": {},
   "outputs": [
    {
     "name": "stdout",
     "output_type": "stream",
     "text": [
      "+---------------+-------------------+-----------+---------+-------------+------+\n",
      "|cpu_utilization|     event_datetime|free_memory|server_id|session_count|na_col|\n",
      "+---------------+-------------------+-----------+---------+-------------+------+\n",
      "|           0.57|03/05/2019 08:06:14|       0.51|      100|           47|     A|\n",
      "|           0.47|03/05/2019 08:11:14|       0.62|      100|           43|     A|\n",
      "|           0.56|03/05/2019 08:16:14|       0.57|      100|           62|     A|\n",
      "|           0.57|03/05/2019 08:21:14|       0.56|      100|           50|     A|\n",
      "|           0.35|03/05/2019 08:26:14|       0.46|      100|           43|     A|\n",
      "|           0.41|03/05/2019 08:31:14|       0.58|      100|           48|     A|\n",
      "|           0.57|03/05/2019 08:36:14|       0.35|      100|           58|     A|\n",
      "|           0.41|03/05/2019 08:41:14|        0.4|      100|           58|     A|\n",
      "|           0.53|03/05/2019 08:46:14|       0.35|      100|           62|     A|\n",
      "|           0.51|03/05/2019 08:51:14|        0.6|      100|           45|     A|\n",
      "|           0.32|03/05/2019 08:56:14|       0.37|      100|           47|     A|\n",
      "|           0.62|03/05/2019 09:01:14|       0.59|      100|           60|     A|\n",
      "|           0.66|03/05/2019 09:06:14|       0.72|      100|           57|     A|\n",
      "|           0.54|03/05/2019 09:11:14|       0.54|      100|           44|     A|\n",
      "|           0.29|03/05/2019 09:16:14|        0.4|      100|           47|     A|\n",
      "|           0.43|03/05/2019 09:21:14|       0.68|      100|           66|     A|\n",
      "|           0.49|03/05/2019 09:26:14|       0.66|      100|           65|     A|\n",
      "|           0.64|03/05/2019 09:31:14|       0.55|      100|           66|     A|\n",
      "|           0.42|03/05/2019 09:36:14|        0.6|      100|           42|     A|\n",
      "|           0.55|03/05/2019 09:41:14|       0.59|      100|           63|     A|\n",
      "+---------------+-------------------+-----------+---------+-------------+------+\n",
      "only showing top 20 rows\n",
      "\n"
     ]
    }
   ],
   "source": [
    "spark.sql(\"SELECT * FROM na_table\").show()"
   ]
  },
  {
   "cell_type": "code",
   "execution_count": 39,
   "id": "2702b095",
   "metadata": {},
   "outputs": [
    {
     "name": "stdout",
     "output_type": "stream",
     "text": [
      "+---------------+-------------------+-----------+---------+-------------+------+\n",
      "|cpu_utilization|     event_datetime|free_memory|server_id|session_count|na_col|\n",
      "+---------------+-------------------+-----------+---------+-------------+------+\n",
      "|           0.57|03/05/2019 08:06:14|       0.51|      100|           47|  null|\n",
      "|           0.47|03/05/2019 08:11:14|       0.62|      100|           43|  null|\n",
      "|           0.56|03/05/2019 08:16:14|       0.57|      100|           62|  null|\n",
      "|           0.57|03/05/2019 08:21:14|       0.56|      100|           50|  null|\n",
      "|           0.35|03/05/2019 08:26:14|       0.46|      100|           43|  null|\n",
      "|           0.41|03/05/2019 08:31:14|       0.58|      100|           48|  null|\n",
      "|           0.57|03/05/2019 08:36:14|       0.35|      100|           58|  null|\n",
      "|           0.41|03/05/2019 08:41:14|        0.4|      100|           58|  null|\n",
      "|           0.53|03/05/2019 08:46:14|       0.35|      100|           62|  null|\n",
      "|           0.51|03/05/2019 08:51:14|        0.6|      100|           45|  null|\n",
      "|           0.32|03/05/2019 08:56:14|       0.37|      100|           47|  null|\n",
      "|           0.62|03/05/2019 09:01:14|       0.59|      100|           60|  null|\n",
      "|           0.66|03/05/2019 09:06:14|       0.72|      100|           57|  null|\n",
      "|           0.54|03/05/2019 09:11:14|       0.54|      100|           44|  null|\n",
      "|           0.29|03/05/2019 09:16:14|        0.4|      100|           47|  null|\n",
      "|           0.43|03/05/2019 09:21:14|       0.68|      100|           66|  null|\n",
      "|           0.49|03/05/2019 09:26:14|       0.66|      100|           65|  null|\n",
      "|           0.64|03/05/2019 09:31:14|       0.55|      100|           66|  null|\n",
      "|           0.42|03/05/2019 09:36:14|        0.6|      100|           42|  null|\n",
      "|           0.55|03/05/2019 09:41:14|       0.59|      100|           63|  null|\n",
      "+---------------+-------------------+-----------+---------+-------------+------+\n",
      "only showing top 20 rows\n",
      "\n"
     ]
    }
   ],
   "source": [
    "spark.sql(\"SELECT * FROM na_table WHERE na_col IS NULL\").show()"
   ]
  },
  {
   "cell_type": "code",
   "execution_count": 40,
   "id": "ae87ae26",
   "metadata": {},
   "outputs": [
    {
     "name": "stdout",
     "output_type": "stream",
     "text": [
      "+---------------+-------------------+-----------+---------+-------------+------+\n",
      "|cpu_utilization|     event_datetime|free_memory|server_id|session_count|na_col|\n",
      "+---------------+-------------------+-----------+---------+-------------+------+\n",
      "|           0.57|03/05/2019 08:06:14|       0.51|      100|           47|     A|\n",
      "|           0.47|03/05/2019 08:11:14|       0.62|      100|           43|     A|\n",
      "|           0.56|03/05/2019 08:16:14|       0.57|      100|           62|     A|\n",
      "|           0.57|03/05/2019 08:21:14|       0.56|      100|           50|     A|\n",
      "|           0.35|03/05/2019 08:26:14|       0.46|      100|           43|     A|\n",
      "|           0.41|03/05/2019 08:31:14|       0.58|      100|           48|     A|\n",
      "|           0.57|03/05/2019 08:36:14|       0.35|      100|           58|     A|\n",
      "|           0.41|03/05/2019 08:41:14|        0.4|      100|           58|     A|\n",
      "|           0.53|03/05/2019 08:46:14|       0.35|      100|           62|     A|\n",
      "|           0.51|03/05/2019 08:51:14|        0.6|      100|           45|     A|\n",
      "|           0.32|03/05/2019 08:56:14|       0.37|      100|           47|     A|\n",
      "|           0.62|03/05/2019 09:01:14|       0.59|      100|           60|     A|\n",
      "|           0.66|03/05/2019 09:06:14|       0.72|      100|           57|     A|\n",
      "|           0.54|03/05/2019 09:11:14|       0.54|      100|           44|     A|\n",
      "|           0.29|03/05/2019 09:16:14|        0.4|      100|           47|     A|\n",
      "|           0.43|03/05/2019 09:21:14|       0.68|      100|           66|     A|\n",
      "|           0.49|03/05/2019 09:26:14|       0.66|      100|           65|     A|\n",
      "|           0.64|03/05/2019 09:31:14|       0.55|      100|           66|     A|\n",
      "|           0.42|03/05/2019 09:36:14|        0.6|      100|           42|     A|\n",
      "|           0.55|03/05/2019 09:41:14|       0.59|      100|           63|     A|\n",
      "+---------------+-------------------+-----------+---------+-------------+------+\n",
      "only showing top 20 rows\n",
      "\n"
     ]
    }
   ],
   "source": [
    "spark.sql(\"SELECT * FROM na_table WHERE na_col IS NOT NULL\").show()"
   ]
  },
  {
   "cell_type": "code",
   "execution_count": null,
   "id": "fac9dcd3",
   "metadata": {},
   "outputs": [],
   "source": []
  }
 ],
 "metadata": {
  "kernelspec": {
   "display_name": "Python 3 (ipykernel)",
   "language": "python",
   "name": "python3"
  },
  "language_info": {
   "codemirror_mode": {
    "name": "ipython",
    "version": 3
   },
   "file_extension": ".py",
   "mimetype": "text/x-python",
   "name": "python",
   "nbconvert_exporter": "python",
   "pygments_lexer": "ipython3",
   "version": "3.9.13"
  }
 },
 "nbformat": 4,
 "nbformat_minor": 5
}
